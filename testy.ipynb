{
 "cells": [
  {
   "cell_type": "code",
   "execution_count": 6,
   "id": "80c573a4-41cc-4bf1-a209-0fbaac6138de",
   "metadata": {},
   "outputs": [],
   "source": [
    "import unittest\n",
    "from datetime import datetime, timedelta\n",
    "from main import *"
   ]
  },
  {
   "cell_type": "code",
   "execution_count": 8,
   "id": "53f057ce-6259-446a-a8ac-e65092208404",
   "metadata": {},
   "outputs": [
    {
     "name": "stderr",
     "output_type": "stream",
     "text": [
      ".......\n",
      "----------------------------------------------------------------------\n",
      "Ran 7 tests in 2.009s\n",
      "\n",
      "OK\n"
     ]
    }
   ],
   "source": [
    "\n",
    "class TestBikeRentalSystem(unittest.TestCase):\n",
    "    \n",
    "  \n",
    "    def test_reservation_expiry(self):\n",
    "        station = Station(\"Rezerwacja\", \"Wrocław\", 5)\n",
    "        user = User(\"Kasia\")\n",
    "        reservation = Reservation(user, station, \"miejski\", datetime.now(), datetime.now() + timedelta(seconds=1))\n",
    "        self.assertTrue(reservation.is_active())\n",
    "        import time; time.sleep(2)\n",
    "        self.assertFalse(reservation.is_active())\n",
    "        \n",
    "  \n",
    "    def test_create_bike(self):\n",
    "        bike = Bike(\"górski\")\n",
    "        self.assertEqual(bike.type, \"górski\")\n",
    "        self.assertEqual(bike.status, \"dostępny\")\n",
    "\n",
    " \n",
    "    def test_station_add_remove_bike(self):\n",
    "        station = Station(\"Centrum\", \"Plac Wolności\", 2)\n",
    "        bike = Bike(\"miejski\")\n",
    "        station.add_bike(bike)\n",
    "        self.assertIn(bike, station.bikes)\n",
    "        station.remove_bike(bike)\n",
    "        self.assertNotIn(bike, station.bikes)\n",
    "\n",
    "\n",
    "    def test_user_rent_and_return_bike(self):\n",
    "        station = Station(\"Dworzec\", \"ul. Kolejowa\", 3)\n",
    "        user = User(\"Jan\")\n",
    "        bike = Bike(\"elektryczny\")\n",
    "        station.add_bike(bike)\n",
    "        rental = user.wypozycz_bike(bike, station)\n",
    "        self.assertIn(rental, user.active_rentals)\n",
    "        user.zwroc_bike(rental, station)\n",
    "        self.assertNotIn(rental, user.active_rentals)\n",
    "        self.assertEqual(bike.status, \"dostępny\")\n",
    "\n",
    "   \n",
    "    def test_repair_bike(self):\n",
    "        bike = Bike(\"miejski\")\n",
    "        user = User(\"Anna\")\n",
    "        repair = Repair(bike, user)\n",
    "        self.assertEqual(bike.status, \"w naprawie\")\n",
    "        repair.start_time -= timedelta(minutes=3)  # symuluj upływ czasu\n",
    "        self.assertTrue(repair.is_done())\n",
    "        station = Station(\"Serwis\", \"ul. Naprawcza\", 2)\n",
    "        repair.complete(station)\n",
    "        self.assertTrue(repair.finished)\n",
    "        self.assertEqual(bike.status, \"dostępny\")\n",
    "        self.assertIn(bike, station.bikes)\n",
    "\n",
    "    def test_station_capacity_limit(self):\n",
    "        station = Station(\"Mała Stacja\", \"ul. Krótka\", capacity=1)\n",
    "        bike1 = Bike(\"miejski\")\n",
    "        bike2 = Bike(\"górski\")\n",
    "\n",
    "        station.add_bike(bike1)\n",
    "        with self.assertRaises(Exception): \n",
    "            station.add_bike(bike2)\n",
    "\n",
    "    def test_bike_status_on_rent(self):\n",
    "        station = Station(\"Start\", \"ul. Rowerowa\", 3)\n",
    "        user = User(\"Tomek\")\n",
    "        bike = Bike(\"elektryczny\")\n",
    "        station.add_bike(bike)\n",
    "\n",
    "        user.wypozycz_bike(bike, station)\n",
    "        self.assertEqual(bike.status, \"wypożyczony\")\n",
    "\n",
    "if __name__ == \"__main__\":\n",
    "    #unittest.main()\n",
    "    unittest.main(argv=['first-arg-is-ignored'], exit=False)\n",
    "    #problemy z zatrzymaniem kenrela przy uruchumieniu testów jednostkowych \n",
    "    #argv - ignoruje domyslne argumenty kernela\n",
    "    #exit=False - nie zatrzymuje kernela "
   ]
  },
  {
   "cell_type": "code",
   "execution_count": null,
   "id": "69a3d2a1-5ea2-46c6-92da-8d1d48223e95",
   "metadata": {},
   "outputs": [],
   "source": []
  }
 ],
 "metadata": {
  "kernelspec": {
   "display_name": "Python 3 (ipykernel)",
   "language": "python",
   "name": "python3"
  },
  "language_info": {
   "codemirror_mode": {
    "name": "ipython",
    "version": 3
   },
   "file_extension": ".py",
   "mimetype": "text/x-python",
   "name": "python",
   "nbconvert_exporter": "python",
   "pygments_lexer": "ipython3",
   "version": "3.11.4"
  },
  "widgets": {
   "application/vnd.jupyter.widget-state+json": {
    "state": {},
    "version_major": 2,
    "version_minor": 0
   }
  }
 },
 "nbformat": 4,
 "nbformat_minor": 5
}
